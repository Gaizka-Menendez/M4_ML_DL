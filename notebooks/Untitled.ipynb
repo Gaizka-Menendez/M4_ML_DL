{
 "cells": [
  {
   "cell_type": "code",
   "execution_count": null,
   "id": "60477709-4ceb-483c-9e7c-d1f477a838aa",
   "metadata": {},
   "outputs": [],
   "source": []
  }
 ],
 "metadata": {
  "kernelspec": {
   "display_name": "Pontia ML Env (Yellowbrick)",
   "language": "python",
   "name": "env_pontia_ml_kernel"
  },
  "language_info": {
   "codemirror_mode": {
    "name": "ipython",
    "version": 3
   },
   "file_extension": ".py",
   "mimetype": "text/x-python",
   "name": "python",
   "nbconvert_exporter": "python",
   "pygments_lexer": "ipython3",
   "version": "3.11.9"
  }
 },
 "nbformat": 4,
 "nbformat_minor": 5
}
