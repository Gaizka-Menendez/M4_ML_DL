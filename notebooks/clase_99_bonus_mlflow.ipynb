{
 "cells": [
  {
   "cell_type": "markdown",
   "metadata": {},
   "source": [
    "# Clase Bonus: Introducción a MLflow\n",
    "---"
   ]
  },
  {
   "cell_type": "markdown",
   "metadata": {},
   "source": [
    "<img src=\"../img/sergio_portrait_square.png\" alt=\"Sergio Benito\" align=\"right\" width=\"100\">\n",
    "\n",
    "- **Autor:** Sergio Benito Martín\n",
    "- **Contacto:** pontia@sergiobenito.com\n",
    "- **Última actualización:** 01/06/2025\n",
    "\n",
    "Objetivo poder tener una primera toma de contacto con MLflow para poder trackear experimentos.\n",
    "\n",
    "# Links Útiles\n",
    "+ [Medium - Introduction to MLFlow: A Beginner’s Guide with Multiple Experiments](https://medium.com/artificial-intelligence-101/introduction-to-mlflow-a-beginners-guide-with-multiple-experiments-0e1cdf425675)\n",
    "---"
   ]
  },
  {
   "cell_type": "markdown",
   "metadata": {},
   "source": [
    "## 1. Arrancar el servidor de MLflow"
   ]
  },
  {
   "cell_type": "markdown",
   "metadata": {},
   "source": [
    "Antes de empezar será necesario poder arrancar y poner en funcionamiento el servidor de MLflow que permitirá el tracking de los experimentos. Para ello utiliza el siguiente comando dentro de la terminal:\n",
    "\n",
    "```bash\n",
    "mlflow server --host 127.0.0.1 --port 8087\n",
    "```\n",
    "\n",
    "Aparecerá una pantalla similar a la siguiente:\n",
    "![](../img/mlflow/mlflow_1_iniciar_server.png)\n",
    "\n",
    "Y si se entra desde el navegador a la URL [http://localhost:8087/](http://localhost:8087/) aparecerá la siguiente interfaz:\n",
    "\n",
    "![](../img/mlflow/mlflow_2_iniciar_ui.png)"
   ]
  },
  {
   "cell_type": "markdown",
   "metadata": {},
   "source": [
    "## 2. Lanzar experimentos"
   ]
  },
  {
   "cell_type": "code",
   "execution_count": 1,
   "metadata": {},
   "outputs": [],
   "source": [
    "import mlflow\n",
    "import mlflow.sklearn\n",
    "import pandas as pd\n",
    "\n",
    "from sklearn.ensemble import RandomForestRegressor\n",
    "from sklearn.datasets import load_diabetes\n",
    "from sklearn.model_selection import train_test_split\n",
    "from sklearn.metrics import mean_squared_error"
   ]
  },
  {
   "cell_type": "code",
   "execution_count": 2,
   "metadata": {},
   "outputs": [],
   "source": [
    "from mlflow import MlflowClient"
   ]
  },
  {
   "cell_type": "markdown",
   "metadata": {},
   "source": [
    "### Configurar MLflow y crear el experimento"
   ]
  },
  {
   "cell_type": "code",
   "execution_count": 3,
   "metadata": {},
   "outputs": [],
   "source": [
    "MLFLOW_URI = \"http://127.0.0.1\"\n",
    "MLFLOW_PORT = \"8087\"\n",
    "\n",
    "MLFLOW_EXPERIMENT_NAME = \"Ejemplo PontIA\"\n",
    "MLFLOW_ARTIFACT_LOCATION = \"../mlflow/\""
   ]
  },
  {
   "cell_type": "code",
   "execution_count": 4,
   "metadata": {},
   "outputs": [],
   "source": [
    "client = MlflowClient(tracking_uri=f\"{MLFLOW_URI}:{MLFLOW_PORT}\")"
   ]
  },
  {
   "cell_type": "code",
   "execution_count": 6,
   "metadata": {},
   "outputs": [],
   "source": [
    "mlflow.set_tracking_uri(MLFLOW_ARTIFACT_LOCATION)"
   ]
  },
  {
   "cell_type": "code",
   "execution_count": 7,
   "metadata": {
    "scrolled": true
   },
   "outputs": [],
   "source": [
    "experiment_id = client.create_experiment(name=MLFLOW_EXPERIMENT_NAME, artifact_location=MLFLOW_ARTIFACT_LOCATION)"
   ]
  },
  {
   "cell_type": "code",
   "execution_count": 8,
   "metadata": {},
   "outputs": [
    {
     "data": {
      "text/plain": [
       "'447562545330767851'"
      ]
     },
     "execution_count": 8,
     "metadata": {},
     "output_type": "execute_result"
    }
   ],
   "source": [
    "experiment_id"
   ]
  },
  {
   "cell_type": "code",
   "execution_count": 9,
   "metadata": {},
   "outputs": [
    {
     "data": {
      "text/plain": [
       "<Experiment: artifact_location='/Users/SERGIO-BENITO/Documents/pontia/pontia_modulo_ml_alumnos/../mlflow', creation_time=1748970584618, experiment_id='447562545330767851', last_update_time=1748970584618, lifecycle_stage='active', name='Ejemplo PontIA', tags={}>"
      ]
     },
     "execution_count": 9,
     "metadata": {},
     "output_type": "execute_result"
    }
   ],
   "source": [
    "client.get_experiment_by_name(MLFLOW_EXPERIMENT_NAME)"
   ]
  },
  {
   "cell_type": "code",
   "execution_count": 10,
   "metadata": {},
   "outputs": [],
   "source": [
    "mlflow.sklearn.autolog()"
   ]
  },
  {
   "cell_type": "code",
   "execution_count": 11,
   "metadata": {},
   "outputs": [],
   "source": [
    "# Cargamos los datos\n",
    "data = load_diabetes()\n",
    "X = pd.DataFrame(data.data, columns=data.feature_names)\n",
    "y = data.target\n",
    "X_train, X_test, y_train, y_test = train_test_split(X, y, test_size=.2, random_state=42)"
   ]
  },
  {
   "cell_type": "code",
   "execution_count": 12,
   "metadata": {},
   "outputs": [
    {
     "name": "stderr",
     "output_type": "stream",
     "text": [
      "2025/06/03 19:10:39 WARNING mlflow.utils.environment: Failed to resolve installed pip version. ``pip`` will be added to conda.yaml environment spec without a version specifier.\n",
      "2025/06/03 19:10:42 WARNING mlflow.utils.environment: Failed to resolve installed pip version. ``pip`` will be added to conda.yaml environment spec without a version specifier.\n",
      "\u001b[31m2025/06/03 19:10:42 WARNING mlflow.models.model: Model logged without a signature and input example. Please set `input_example` parameter when logging the model to auto infer the model signature.\u001b[0m\n"
     ]
    },
    {
     "name": "stdout",
     "output_type": "stream",
     "text": [
      "Modelo logueado con RMSE: 2836.7505\n"
     ]
    }
   ],
   "source": [
    "# Entrenamiento con MLflow Tracking\n",
    "with mlflow.start_run(experiment_id=experiment_id, run_name='modelo_base'):\n",
    "    n_estimators=100\n",
    "    max_depth=4\n",
    "    model = RandomForestRegressor(n_estimators=n_estimators, max_depth=max_depth, random_state=42)\n",
    "    model.fit(X_train, y_train)\n",
    "    predictions = model.predict(X_test)\n",
    "\n",
    "    rmse = mean_squared_error(y_test, predictions)\n",
    "    \n",
    "    mlflow.log_param(\"n_estimators\", n_estimators)\n",
    "    mlflow.log_param(\"max_depth\", max_depth)\n",
    "    mlflow.log_metric(\"rmse\", rmse)\n",
    "\n",
    "    mlflow.sklearn.log_model(model, \"model\")\n",
    "\n",
    "    print(f\"Modelo logueado con RMSE: {rmse:.4f}\")"
   ]
  },
  {
   "cell_type": "code",
   "execution_count": 13,
   "metadata": {},
   "outputs": [
    {
     "name": "stderr",
     "output_type": "stream",
     "text": [
      "2025/06/03 19:10:50 WARNING mlflow.utils.environment: Failed to resolve installed pip version. ``pip`` will be added to conda.yaml environment spec without a version specifier.\n",
      "2025/06/03 19:10:53 WARNING mlflow.utils.environment: Failed to resolve installed pip version. ``pip`` will be added to conda.yaml environment spec without a version specifier.\n",
      "\u001b[31m2025/06/03 19:10:53 WARNING mlflow.models.model: Model logged without a signature and input example. Please set `input_example` parameter when logging the model to auto infer the model signature.\u001b[0m\n"
     ]
    },
    {
     "name": "stdout",
     "output_type": "stream",
     "text": [
      "Modelo logueado con RMSE: 3420.5896\n"
     ]
    }
   ],
   "source": [
    "# Entrenamiento con MLflow Tracking\n",
    "with mlflow.start_run(experiment_id=experiment_id, run_name='model_v0.1'):\n",
    "    n_estimators=2\n",
    "    max_depth=3\n",
    "    model = RandomForestRegressor(n_estimators=n_estimators, max_depth=max_depth, random_state=42)\n",
    "    model.fit(X_train, y_train)\n",
    "    predictions = model.predict(X_test)\n",
    "\n",
    "    rmse = mean_squared_error(y_test, predictions)\n",
    "    \n",
    "    mlflow.log_param(\"n_estimators\", n_estimators)\n",
    "    mlflow.log_param(\"max_depth\", max_depth)\n",
    "    mlflow.log_metric(\"rmse\", rmse)\n",
    "\n",
    "    mlflow.sklearn.log_model(model, \"model\")\n",
    "\n",
    "    print(f\"Modelo logueado con RMSE: {rmse:.4f}\")"
   ]
  },
  {
   "cell_type": "markdown",
   "metadata": {},
   "source": [
    "## 3. Ver experimentos en la UI de MLflow\n",
    "![](../img/mlflow/mlflow_3_experimentos.png)\n",
    "\n",
    "![](../img/mlflow/mlflow_4_detalle_experimento.png)"
   ]
  }
 ],
 "metadata": {
  "kernelspec": {
   "display_name": "entorno-pontia-ml",
   "language": "python",
   "name": "entorno-pontia-ml"
  },
  "language_info": {
   "codemirror_mode": {
    "name": "ipython",
    "version": 3
   },
   "file_extension": ".py",
   "mimetype": "text/x-python",
   "name": "python",
   "nbconvert_exporter": "python",
   "pygments_lexer": "ipython3",
   "version": "3.11.12"
  }
 },
 "nbformat": 4,
 "nbformat_minor": 4
}
