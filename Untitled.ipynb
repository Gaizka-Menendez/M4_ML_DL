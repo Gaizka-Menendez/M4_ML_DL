{
 "cells": [
  {
   "cell_type": "code",
   "execution_count": null,
   "id": "fae787b1-598c-4a6e-ac36-e2561cbb2c26",
   "metadata": {},
   "outputs": [],
   "source": []
  }
 ],
 "metadata": {
  "kernelspec": {
   "display_name": "env-pontia-ml",
   "language": "python",
   "name": "env-pontia-ml"
  },
  "language_info": {
   "codemirror_mode": {
    "name": "ipython",
    "version": 3
   },
   "file_extension": ".py",
   "mimetype": "text/x-python",
   "name": "python",
   "nbconvert_exporter": "python",
   "pygments_lexer": "ipython3",
   "version": "3.11.9"
  }
 },
 "nbformat": 4,
 "nbformat_minor": 5
}
